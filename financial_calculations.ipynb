{
 "cells": [
  {
   "cell_type": "markdown",
   "id": "d106a405-8126-474f-a23f-428e6e4ef928",
   "metadata": {},
   "source": [
    "**Description:**\n",
    "\n",
    "This script performs two financial calculations:\n",
    "1. **Future Investment Value Calculation** - Computes the future value of an investment based on a given principal, annual interest rate, and number of years.\n",
    "2. **Gratuity and Total Bill Calculation** - Computes gratuity and total bill amount based on a given subtotal and gratuity percentage.\n"
   ]
  },
  {
   "cell_type": "code",
   "execution_count": null,
   "id": "376d85d8-35a6-4494-b7e2-06b412837341",
   "metadata": {},
   "outputs": [],
   "source": [
    "def calculate_future_investment():\n",
    "    \"\"\"Calculates the future value of an investment.\"\"\"\n",
    "    try:\n",
    "        investment = float(input(\"Enter investment amount: \"))\n",
    "        annual_rate = float(input(\"Enter annual interest rate (%): \"))\n",
    "        years = int(input(\"Enter number of years: \"))\n",
    "        \n",
    "        monthly_interest_rate = annual_rate / 100 / 12\n",
    "        months = years * 12\n",
    "        future_value = investment * (1 + monthly_interest_rate) ** months\n",
    "        \n",
    "        print(f\"Future investment value: {future_value:.2f}\")\n",
    "    except ValueError:\n",
    "        print(\"Invalid input. Please enter numeric values.\")\n",
    "\n",
    "def calculate_gratuity():\n",
    "    \"\"\"Calculates gratuity and total bill amount.\"\"\"\n",
    "    try:\n",
    "        subtotal = float(input(\"Enter the subtotal: \"))\n",
    "        gratuity_rate = float(input(\"Enter the gratuity rate (%): \"))\n",
    "        \n",
    "        gratuity = subtotal * (gratuity_rate / 100)\n",
    "        total = subtotal + gratuity\n",
    "        \n",
    "        print(f\"The gratuity is {gratuity:.2f} and total is {total:.2f}\")\n",
    "    except ValueError:\n",
    "        print(\"Invalid input. Please enter numeric values.\")\n",
    "\n",
    "def main():\n",
    "    \"\"\"Main function to execute financial calculations.\"\"\"\n",
    "    while True:\n",
    "        print(\"\"\"\n",
    "1. Calculate Future Investment Value\n",
    "2. Calculate Gratuity and Total Bill\n",
    "3. Exit\n",
    "\"\"\")\n",
    "        choice = input(\"Enter your choice: \").strip()\n",
    "        \n",
    "        if choice == '1':\n",
    "            calculate_future_investment()\n",
    "        elif choice == '2':\n",
    "            calculate_gratuity()\n",
    "        elif choice == '3':\n",
    "            print(\"Exiting program.\")\n",
    "            break\n",
    "        else:\n",
    "            print(\"Invalid choice. Please enter 1, 2, or 3.\")\n",
    "\n",
    "if __name__ == \"__main__\":\n",
    "    main()\n"
   ]
  }
 ],
 "metadata": {
  "kernelspec": {
   "display_name": "Python 3 (ipykernel)",
   "language": "python",
   "name": "python3"
  },
  "language_info": {
   "codemirror_mode": {
    "name": "ipython",
    "version": 3
   },
   "file_extension": ".py",
   "mimetype": "text/x-python",
   "name": "python",
   "nbconvert_exporter": "python",
   "pygments_lexer": "ipython3",
   "version": "3.13.2"
  }
 },
 "nbformat": 4,
 "nbformat_minor": 5
}
